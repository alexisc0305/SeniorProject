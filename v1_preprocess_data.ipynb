{
  "nbformat": 4,
  "nbformat_minor": 0,
  "metadata": {
    "colab": {
      "name": "v1_preprocess_data.ipynb",
      "provenance": [],
      "collapsed_sections": [],
      "mount_file_id": "1b7yuDY1jD9NYhUt-g6sgJc7R5lfuYFu3",
      "authorship_tag": "ABX9TyMcFTUIN+SUXAb+MRLYaanE",
      "include_colab_link": true
    },
    "kernelspec": {
      "name": "python3",
      "display_name": "Python 3"
    },
    "language_info": {
      "name": "python"
    }
  },
  "cells": [
    {
      "cell_type": "markdown",
      "metadata": {
        "id": "view-in-github",
        "colab_type": "text"
      },
      "source": [
        "<a href=\"https://colab.research.google.com/github/znhinson/SeniorProject/blob/prototype_v1_preprocess/v1_preprocess_data.ipynb\" target=\"_parent\"><img src=\"https://colab.research.google.com/assets/colab-badge.svg\" alt=\"Open In Colab\"/></a>"
      ]
    },
    {
      "cell_type": "markdown",
      "source": [
        "Preprocessing Data"
      ],
      "metadata": {
        "id": "unUIwtYM2hgd"
      }
    },
    {
      "cell_type": "code",
      "execution_count": null,
      "metadata": {
        "id": "IUNEsdbpRRHr"
      },
      "outputs": [],
      "source": [
        "import numpy as np \n",
        "# used as an array operation\n",
        "import cv2\n",
        "# converting images into arrays\n",
        "import os\n",
        "#specify the location of the images\n",
        "import random\n",
        "#randomize images for purpose of training and testing data\n",
        "import matplotlib.pyplot as plt\n",
        "import pickle"
      ]
    },
    {
      "cell_type": "code",
      "source": [
        "DIRECTORY = r'/content/drive/MyDrive/dataset'\n",
        "CATEGORIES = ['hair','no_hair']\n",
        "print(DIRECTORY)\n",
        "#C:\\Users\\Zjaden\\Downloads\\dataset\\hair"
      ],
      "metadata": {
        "id": "HdkooUYfThss",
        "colab": {
          "base_uri": "https://localhost:8080/"
        },
        "outputId": "70202ee2-bfb4-4971-beaa-177b12bfa47e"
      },
      "execution_count": null,
      "outputs": [
        {
          "output_type": "stream",
          "name": "stdout",
          "text": [
            "/content/drive/MyDrive/dataset\n"
          ]
        }
      ]
    },
    {
      "cell_type": "code",
      "source": [
        "data = []\n",
        "\n",
        "for category in CATEGORIES:\n",
        "    folder = os.path.join(DIRECTORY, category)\n",
        "    label = CATEGORIES.index(category)\n",
        "    #print(folder)\n",
        "    for img in os.listdir(folder):\n",
        "       img_path = os.path.join(folder, img)\n",
        "       img_arr = cv2.imread(img_path)\n",
        "       #img_arr = cv2.resize(img_arr, (IMG_SIZE, IMG_SIZE))\n",
        "       data.append([img_arr, label])"
      ],
      "metadata": {
        "id": "Cxp7y-JVVFxF"
      },
      "execution_count": null,
      "outputs": []
    },
    {
      "cell_type": "markdown",
      "source": [
        "Training the model"
      ],
      "metadata": {
        "id": "kvN-Ffq3CAkf"
      }
    },
    {
      "cell_type": "code",
      "source": [
        "len(data)"
      ],
      "metadata": {
        "id": "CmzH7bdTqORl"
      },
      "execution_count": null,
      "outputs": []
    },
    {
      "cell_type": "code",
      "source": [
        "random.shuffle(data)"
      ],
      "metadata": {
        "id": "_Uyc_Y7FuPgw"
      },
      "execution_count": null,
      "outputs": []
    },
    {
      "cell_type": "code",
      "source": [
        "X= []\n",
        "Y = []\n",
        "\n",
        "for features, labels in data:\n",
        "    X.append(features)\n",
        "    Y.append(labels)"
      ],
      "metadata": {
        "id": "ojQg8IZ51eGE"
      },
      "execution_count": null,
      "outputs": []
    },
    {
      "cell_type": "code",
      "source": [
        "X =np.array(X)\n",
        "Y = np.array(Y)"
      ],
      "metadata": {
        "id": "aCXq4pmH16DF"
      },
      "execution_count": null,
      "outputs": []
    },
    {
      "cell_type": "code",
      "source": [
        "pickle.dump(X, open('X.pkl', 'wb'))\n",
        "pickle.dump(X, open('Y.pkl', 'wb'))"
      ],
      "metadata": {
        "id": "MXO9Dwwd2ISt"
      },
      "execution_count": null,
      "outputs": []
    },
    {
      "cell_type": "code",
      "source": [
        ""
      ],
      "metadata": {
        "id": "xTyW9IXcB9b6"
      },
      "execution_count": null,
      "outputs": []
    }
  ]
}