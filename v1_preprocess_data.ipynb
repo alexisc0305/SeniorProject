{
  "cells": [
    {
      "cell_type": "markdown",
      "metadata": {
        "colab_type": "text",
        "id": "view-in-github"
      },
      "source": [
        "<a href=\"https://colab.research.google.com/github/znhinson/SeniorProject/blob/prototype_v1_preprocess/v1_preprocess_data.ipynb\" target=\"_parent\"><img src=\"https://colab.research.google.com/assets/colab-badge.svg\" alt=\"Open In Colab\"/></a>"
      ]
    },
    {
      "cell_type": "markdown",
      "metadata": {
        "id": "unUIwtYM2hgd"
      },
      "source": [
        "Preprocessing Data"
      ]
    },
    {
      "cell_type": "code",
      "execution_count": 1,
      "metadata": {
        "id": "IUNEsdbpRRHr"
      },
      "outputs": [],
      "source": [
        "import numpy as np \n",
        "# used as an array operation\n",
        "import cv2\n",
        "# converting images into arrays\n",
        "import os\n",
        "#specify the location of the images\n",
        "import random\n",
        "#randomize images for purpose of training and testing data\n",
        "import matplotlib.pyplot as plt\n",
        "import pickle"
      ]
    },
    {
      "cell_type": "code",
      "execution_count": 2,
      "metadata": {
        "colab": {
          "base_uri": "https://localhost:8080/"
        },
        "id": "HdkooUYfThss",
        "outputId": "70202ee2-bfb4-4971-beaa-177b12bfa47e"
      },
      "outputs": [
        {
          "name": "stdout",
          "output_type": "stream",
          "text": [
            "dataset\n"
          ]
        }
      ],
      "source": [
        "#DIRECTORY = r'/content/drive/MyDrive/dataset'\n",
        "DIRECTORY = r'dataset'\n",
        "CATEGORIES = ['hair','no_hair']\n",
        "print(DIRECTORY)\n",
        "#C:\\Users\\Zjaden\\Downloads\\dataset\\hair"
      ]
    },
    {
      "cell_type": "code",
      "execution_count": 3,
      "metadata": {
        "id": "Cxp7y-JVVFxF"
      },
      "outputs": [],
      "source": [
        "data = []\n",
        "\n",
        "for category in CATEGORIES:\n",
        "    folder = os.path.join(DIRECTORY, category)\n",
        "    label = CATEGORIES.index(category)\n",
        "    #print(folder)\n",
        "    for img in os.listdir(folder):\n",
        "       img_path = os.path.join(folder, img)\n",
        "       img_arr = cv2.imread(img_path)\n",
        "       #img_arr = cv2.resize(img_arr, (IMG_SIZE, IMG_SIZE))\n",
        "       data.append([img_arr, label])"
      ]
    },
    {
      "cell_type": "markdown",
      "metadata": {
        "id": "kvN-Ffq3CAkf"
      },
      "source": [
        "Training the model"
      ]
    },
    {
      "cell_type": "code",
      "execution_count": 4,
      "metadata": {
        "id": "CmzH7bdTqORl"
      },
      "outputs": [
        {
          "data": {
            "text/plain": [
              "187"
            ]
          },
          "execution_count": 4,
          "metadata": {},
          "output_type": "execute_result"
        }
      ],
      "source": [
        "len(data)"
      ]
    },
    {
      "cell_type": "code",
      "execution_count": 5,
      "metadata": {
        "id": "_Uyc_Y7FuPgw"
      },
      "outputs": [],
      "source": [
        "random.shuffle(data)"
      ]
    },
    {
      "cell_type": "code",
      "execution_count": 6,
      "metadata": {
        "id": "ojQg8IZ51eGE"
      },
      "outputs": [],
      "source": [
        "X= []\n",
        "Y = []\n",
        "\n",
        "for features, labels in data:\n",
        "    X.append(features)\n",
        "    Y.append(labels)"
      ]
    },
    {
      "cell_type": "code",
      "execution_count": 7,
      "metadata": {
        "id": "aCXq4pmH16DF"
      },
      "outputs": [
        {
          "name": "stderr",
          "output_type": "stream",
          "text": [
            "/var/folders/jx/3zx13fh97g35_c1c7d468gl00000gn/T/ipykernel_1461/93465556.py:1: VisibleDeprecationWarning: Creating an ndarray from ragged nested sequences (which is a list-or-tuple of lists-or-tuples-or ndarrays with different lengths or shapes) is deprecated. If you meant to do this, you must specify 'dtype=object' when creating the ndarray.\n",
            "  X = np.array(X)\n"
          ]
        }
      ],
      "source": [
        "X = np.array(X)\n",
        "Y = np.array(Y)"
      ]
    },
    {
      "cell_type": "code",
      "execution_count": 8,
      "metadata": {
        "id": "MXO9Dwwd2ISt"
      },
      "outputs": [],
      "source": [
        "pickle.dump(X, open('X.pkl', 'wb'))\n",
        "pickle.dump(X, open('Y.pkl', 'wb'))"
      ]
    }
  ],
  "metadata": {
    "colab": {
      "authorship_tag": "ABX9TyMcFTUIN+SUXAb+MRLYaanE",
      "collapsed_sections": [],
      "include_colab_link": true,
      "mount_file_id": "1b7yuDY1jD9NYhUt-g6sgJc7R5lfuYFu3",
      "name": "v1_preprocess_data.ipynb",
      "provenance": []
    },
    "kernelspec": {
      "display_name": "Python 3.9.12 ('base')",
      "language": "python",
      "name": "python3"
    },
    "language_info": {
      "codemirror_mode": {
        "name": "ipython",
        "version": 3
      },
      "file_extension": ".py",
      "mimetype": "text/x-python",
      "name": "python",
      "nbconvert_exporter": "python",
      "pygments_lexer": "ipython3",
      "version": "3.9.12"
    },
    "vscode": {
      "interpreter": {
        "hash": "abac7a16651840d080abcb22545e264d6846010d48543d5dbb04071fd2dda9ca"
      }
    }
  },
  "nbformat": 4,
  "nbformat_minor": 0
}
